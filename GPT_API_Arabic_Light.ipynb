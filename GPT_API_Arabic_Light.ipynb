{
 "cells": [
  {
   "cell_type": "code",
   "execution_count": null,
   "id": "bc291106",
   "metadata": {},
   "outputs": [],
   "source": [
    "\n",
    "# Install required libraries\n",
    "!pip install flask flask-ngrok transformers\n",
    "\n",
    "# Import libraries\n",
    "from flask import Flask, request, jsonify\n",
    "from flask_ngrok import run_with_ngrok\n",
    "from transformers import AutoTokenizer, AutoModelForCausalLM\n",
    "import torch\n",
    "\n",
    "# Initialize Flask app\n",
    "app = Flask(__name__)\n",
    "run_with_ngrok(app)\n",
    "\n",
    "# Load GPT-2 model and tokenizer (lightweight and works on Colab free tier)\n",
    "tokenizer = AutoTokenizer.from_pretrained(\"gpt2\")\n",
    "model = AutoModelForCausalLM.from_pretrained(\"gpt2\")\n",
    "\n",
    "# Define the API route\n",
    "@app.route(\"/generate\", methods=[\"POST\"])\n",
    "def generate():\n",
    "    input_text = request.json.get(\"prompt\", \"\")\n",
    "    inputs = tokenizer(input_text, return_tensors=\"pt\")\n",
    "    outputs = model.generate(**inputs, max_length=200, pad_token_id=tokenizer.eos_token_id)\n",
    "    result = tokenizer.decode(outputs[0], skip_special_tokens=True)\n",
    "    return jsonify({\"response\": result})\n",
    "\n",
    "# Run the app\n",
    "app.run()\n"
   ]
  }
 ],
 "metadata": {},
 "nbformat": 4,
 "nbformat_minor": 5
}
